{
 "cells": [
  {
   "cell_type": "code",
   "execution_count": 114,
   "id": "74d165ff",
   "metadata": {},
   "outputs": [
    {
     "data": {
      "text/html": [
       "        <script type=\"text/javascript\">\n",
       "        window.PlotlyConfig = {MathJaxConfig: 'local'};\n",
       "        if (window.MathJax) {MathJax.Hub.Config({SVG: {font: \"STIX-Web\"}});}\n",
       "        if (typeof require !== 'undefined') {\n",
       "        require.undef(\"plotly\");\n",
       "        requirejs.config({\n",
       "            paths: {\n",
       "                'plotly': ['https://cdn.plot.ly/plotly-2.8.3.min']\n",
       "            }\n",
       "        });\n",
       "        require(['plotly'], function(Plotly) {\n",
       "            window._Plotly = Plotly;\n",
       "        });\n",
       "        }\n",
       "        </script>\n",
       "        "
      ]
     },
     "metadata": {},
     "output_type": "display_data"
    }
   ],
   "source": [
    "import pandas as pd\n",
    "import numpy as np\n",
    "import seaborn as sns\n",
    "import matplotlib.pyplot as plt\n",
    "from plotly.offline import iplot\n",
    "import plotly as py\n",
    "import plotly.tools as tls\n",
    "import cufflinks as cf\n",
    "cf.go_offline()"
   ]
  },
  {
   "cell_type": "code",
   "execution_count": 61,
   "id": "2ee1349f",
   "metadata": {},
   "outputs": [
    {
     "data": {
      "text/html": [
       "<div>\n",
       "<style scoped>\n",
       "    .dataframe tbody tr th:only-of-type {\n",
       "        vertical-align: middle;\n",
       "    }\n",
       "\n",
       "    .dataframe tbody tr th {\n",
       "        vertical-align: top;\n",
       "    }\n",
       "\n",
       "    .dataframe thead th {\n",
       "        text-align: right;\n",
       "    }\n",
       "</style>\n",
       "<table border=\"1\" class=\"dataframe\">\n",
       "  <thead>\n",
       "    <tr style=\"text-align: right;\">\n",
       "      <th></th>\n",
       "      <th>id</th>\n",
       "      <th>Rating</th>\n",
       "      <th>maincateg</th>\n",
       "      <th>platform</th>\n",
       "      <th>actprice1</th>\n",
       "      <th>norating1</th>\n",
       "      <th>noreviews1</th>\n",
       "      <th>star_5f</th>\n",
       "      <th>star_4f</th>\n",
       "      <th>star_3f</th>\n",
       "      <th>star_2f</th>\n",
       "      <th>star_1f</th>\n",
       "      <th>fulfilled1</th>\n",
       "      <th>price1</th>\n",
       "    </tr>\n",
       "  </thead>\n",
       "  <tbody>\n",
       "    <tr>\n",
       "      <th>0</th>\n",
       "      <td>16695</td>\n",
       "      <td>3.9</td>\n",
       "      <td>Women</td>\n",
       "      <td>Flipkart</td>\n",
       "      <td>999</td>\n",
       "      <td>38.0</td>\n",
       "      <td>7.0</td>\n",
       "      <td>17.0</td>\n",
       "      <td>9.0</td>\n",
       "      <td>6.0</td>\n",
       "      <td>3</td>\n",
       "      <td>3</td>\n",
       "      <td>0</td>\n",
       "      <td>698</td>\n",
       "    </tr>\n",
       "    <tr>\n",
       "      <th>1</th>\n",
       "      <td>5120</td>\n",
       "      <td>3.8</td>\n",
       "      <td>Men</td>\n",
       "      <td>Flipkart</td>\n",
       "      <td>1999</td>\n",
       "      <td>531.0</td>\n",
       "      <td>69.0</td>\n",
       "      <td>264.0</td>\n",
       "      <td>92.0</td>\n",
       "      <td>73.0</td>\n",
       "      <td>29</td>\n",
       "      <td>73</td>\n",
       "      <td>1</td>\n",
       "      <td>999</td>\n",
       "    </tr>\n",
       "    <tr>\n",
       "      <th>2</th>\n",
       "      <td>18391</td>\n",
       "      <td>4.4</td>\n",
       "      <td>Women</td>\n",
       "      <td>Flipkart</td>\n",
       "      <td>4999</td>\n",
       "      <td>17.0</td>\n",
       "      <td>4.0</td>\n",
       "      <td>11.0</td>\n",
       "      <td>3.0</td>\n",
       "      <td>2.0</td>\n",
       "      <td>1</td>\n",
       "      <td>0</td>\n",
       "      <td>1</td>\n",
       "      <td>2749</td>\n",
       "    </tr>\n",
       "    <tr>\n",
       "      <th>3</th>\n",
       "      <td>495</td>\n",
       "      <td>4.2</td>\n",
       "      <td>Men</td>\n",
       "      <td>Flipkart</td>\n",
       "      <td>724</td>\n",
       "      <td>46413.0</td>\n",
       "      <td>6229.0</td>\n",
       "      <td>1045.0</td>\n",
       "      <td>12416.0</td>\n",
       "      <td>5352.0</td>\n",
       "      <td>701</td>\n",
       "      <td>4595</td>\n",
       "      <td>1</td>\n",
       "      <td>518</td>\n",
       "    </tr>\n",
       "    <tr>\n",
       "      <th>4</th>\n",
       "      <td>16408</td>\n",
       "      <td>3.9</td>\n",
       "      <td>Men</td>\n",
       "      <td>Flipkart</td>\n",
       "      <td>2299</td>\n",
       "      <td>77.0</td>\n",
       "      <td>3.0</td>\n",
       "      <td>35.0</td>\n",
       "      <td>21.0</td>\n",
       "      <td>7.0</td>\n",
       "      <td>7</td>\n",
       "      <td>7</td>\n",
       "      <td>1</td>\n",
       "      <td>1379</td>\n",
       "    </tr>\n",
       "  </tbody>\n",
       "</table>\n",
       "</div>"
      ],
      "text/plain": [
       "      id  Rating maincateg  platform  actprice1  norating1  noreviews1  \\\n",
       "0  16695     3.9     Women  Flipkart        999       38.0         7.0   \n",
       "1   5120     3.8       Men  Flipkart       1999      531.0        69.0   \n",
       "2  18391     4.4     Women  Flipkart       4999       17.0         4.0   \n",
       "3    495     4.2       Men  Flipkart        724    46413.0      6229.0   \n",
       "4  16408     3.9       Men  Flipkart       2299       77.0         3.0   \n",
       "\n",
       "   star_5f  star_4f  star_3f  star_2f  star_1f  fulfilled1  price1  \n",
       "0     17.0      9.0      6.0        3        3           0     698  \n",
       "1    264.0     92.0     73.0       29       73           1     999  \n",
       "2     11.0      3.0      2.0        1        0           1    2749  \n",
       "3   1045.0  12416.0   5352.0      701     4595           1     518  \n",
       "4     35.0     21.0      7.0        7        7           1    1379  "
      ]
     },
     "execution_count": 61,
     "metadata": {},
     "output_type": "execute_result"
    }
   ],
   "source": [
    "df_train = pd.read_csv('Downloads/train.csv')\n",
    "df_train.head()"
   ]
  },
  {
   "cell_type": "code",
   "execution_count": 62,
   "id": "828f6e67",
   "metadata": {},
   "outputs": [],
   "source": [
    "dummis1 = pd.get_dummies(df_train['maincateg'],prefix='maincateg')\n",
    "\n",
    "\n",
    "\n",
    "df_train  = pd.concat([df_train,dummis1.iloc[:,1:]],axis=1)\n",
    "\n",
    "dummis2 = pd.get_dummies(df_train['platform'],prefix='platform')\n",
    "df_train  = pd.concat([df_train,dummis2.iloc[:,1:]],axis=1)\n",
    "\n",
    "df_train.drop('platform',axis=1,inplace=True)\n",
    "df_train.drop('maincateg',axis=1,inplace=True)\n",
    "#df_train.dropna(inplace=True)"
   ]
  },
  {
   "cell_type": "code",
   "execution_count": 63,
   "id": "24fbb8c4",
   "metadata": {},
   "outputs": [
    {
     "data": {
      "text/plain": [
       "0        16695\n",
       "1         5120\n",
       "2        18391\n",
       "3          495\n",
       "4        16408\n",
       "         ...  \n",
       "15725    16554\n",
       "15726    19600\n",
       "15727     6733\n",
       "15728     3889\n",
       "15729    13682\n",
       "Name: id, Length: 15730, dtype: int64"
      ]
     },
     "execution_count": 63,
     "metadata": {},
     "output_type": "execute_result"
    }
   ],
   "source": []
  },
  {
   "cell_type": "code",
   "execution_count": 64,
   "id": "50f0a95b",
   "metadata": {},
   "outputs": [
    {
     "data": {
      "text/plain": [
       "id                     0\n",
       "Rating                 0\n",
       "actprice1              0\n",
       "norating1            678\n",
       "noreviews1           578\n",
       "star_5f              588\n",
       "star_4f              539\n",
       "star_3f              231\n",
       "star_2f                0\n",
       "star_1f                0\n",
       "fulfilled1             0\n",
       "price1                 0\n",
       "maincateg_Women        0\n",
       "platform_Flipkart      0\n",
       "dtype: int64"
      ]
     },
     "execution_count": 64,
     "metadata": {},
     "output_type": "execute_result"
    }
   ],
   "source": [
    "#df_train.drop('id',axis=1,inplace=True)\n",
    "df_train.isnull().sum()"
   ]
  },
  {
   "cell_type": "code",
   "execution_count": 65,
   "id": "64f2dcba",
   "metadata": {},
   "outputs": [],
   "source": [
    "df_train['norating1'] = df_train['norating1'].fillna(df_train['norating1'].mean())\n",
    "df_train['noreviews1'] = df_train['noreviews1'].fillna(df_train['noreviews1'].mean())\n",
    "df_train['star_5f'] = df_train['star_5f'].fillna(df_train['star_5f'].mean())\n",
    "df_train['star_4f'] = df_train['star_4f'].fillna(df_train['star_4f'].mean())\n",
    "df_train['star_3f'] = df_train['star_3f'].fillna(df_train['star_3f'].mean())\n",
    "df_train['star_2f'] = df_train['star_2f'].fillna(df_train['star_2f'].mean())\n",
    "df_train['star_1f'] = df_train['star_1f'].fillna(df_train['star_1f'].mean())\n"
   ]
  },
  {
   "cell_type": "code",
   "execution_count": null,
   "id": "339e42f0",
   "metadata": {},
   "outputs": [],
   "source": []
  },
  {
   "cell_type": "code",
   "execution_count": null,
   "id": "58d0f946",
   "metadata": {},
   "outputs": [],
   "source": []
  },
  {
   "cell_type": "code",
   "execution_count": 68,
   "id": "4c405159",
   "metadata": {},
   "outputs": [],
   "source": [
    "X_train = df_train[['Rating', 'actprice1', 'norating1', 'noreviews1', 'star_5f', 'star_4f','star_3f', 'star_2f', 'star_1f', 'fulfilled1',\n",
    "       'maincateg_Women', 'platform_Flipkart']]\n",
    "y_train = df_train['price1']"
   ]
  },
  {
   "cell_type": "code",
   "execution_count": 69,
   "id": "837a8cc0",
   "metadata": {},
   "outputs": [],
   "source": [
    "from sklearn.preprocessing import StandardScaler\n",
    "sc = StandardScaler()"
   ]
  },
  {
   "cell_type": "code",
   "execution_count": 70,
   "id": "764f8da9",
   "metadata": {},
   "outputs": [],
   "source": [
    "X_scaled = sc.fit_transform(X_train)"
   ]
  },
  {
   "cell_type": "code",
   "execution_count": 71,
   "id": "1baffcd2",
   "metadata": {},
   "outputs": [
    {
     "data": {
      "text/plain": [
       "LinearRegression()"
      ]
     },
     "execution_count": 71,
     "metadata": {},
     "output_type": "execute_result"
    }
   ],
   "source": [
    "from sklearn.linear_model import LinearRegression\n",
    "lm = LinearRegression()\n",
    "lm.fit(X_scaled,y_train)"
   ]
  },
  {
   "cell_type": "code",
   "execution_count": 72,
   "id": "891471ad",
   "metadata": {},
   "outputs": [
    {
     "data": {
      "text/plain": [
       "0.802638854174178"
      ]
     },
     "execution_count": 72,
     "metadata": {},
     "output_type": "execute_result"
    }
   ],
   "source": [
    "lm.score(X_scaled,y_train)"
   ]
  },
  {
   "cell_type": "markdown",
   "id": "9676997b",
   "metadata": {},
   "source": [
    "# TESTING"
   ]
  },
  {
   "cell_type": "code",
   "execution_count": 81,
   "id": "f2a0f2f8",
   "metadata": {},
   "outputs": [],
   "source": [
    "df_test = pd.read_csv('Downloads/test.csv')"
   ]
  },
  {
   "cell_type": "code",
   "execution_count": 82,
   "id": "0c6e95a7",
   "metadata": {},
   "outputs": [],
   "source": [
    "dummis3 = pd.get_dummies(df_test['maincateg'],prefix='maincateg')\n",
    "\n",
    "\n",
    "\n",
    "df_test  = pd.concat([df_test,dummis3.iloc[:,1:]],axis=1)\n",
    "\n",
    "dummis4 = pd.get_dummies(df_test['platform'],prefix='platform')\n",
    "df_test  = pd.concat([df_test,dummis4.iloc[:,1:]],axis=1)\n",
    "\n",
    "df_test.drop('platform',axis=1,inplace=True)\n",
    "df_test.drop('maincateg',axis=1,inplace=True)\n",
    "#df_test.dropna(inplace=True)"
   ]
  },
  {
   "cell_type": "code",
   "execution_count": 83,
   "id": "1dfc1d07",
   "metadata": {},
   "outputs": [],
   "source": [
    "df_test['norating1'] = df_test['norating1'].fillna(df_test['norating1'].mean())\n",
    "df_test['noreviews1'] = df_test['noreviews1'].fillna(df_test['noreviews1'].mean())\n",
    "df_test['star_5f'] = df_test['star_5f'].fillna(df_test['star_5f'].mean())\n",
    "df_test['star_4f'] = df_test['star_4f'].fillna(df_test['star_4f'].mean())\n",
    "df_test['star_3f'] = df_test['star_3f'].fillna(df_test['star_3f'].mean())\n",
    "df_test['star_2f'] = df_test['star_2f'].fillna(df_test['star_2f'].mean())\n",
    "df_test['star_1f'] = df_test['star_1f'].fillna(df_test['star_1f'].mean())\n",
    "df_test['Rating'] = df_test['Rating'].fillna(df_test['Rating'].mean())"
   ]
  },
  {
   "cell_type": "code",
   "execution_count": 84,
   "id": "5bcd9faa",
   "metadata": {},
   "outputs": [
    {
     "data": {
      "text/plain": [
       "5244"
      ]
     },
     "execution_count": 84,
     "metadata": {},
     "output_type": "execute_result"
    }
   ],
   "source": [
    "len(df_test)"
   ]
  },
  {
   "cell_type": "code",
   "execution_count": 85,
   "id": "b56d0d70",
   "metadata": {},
   "outputs": [],
   "source": [
    "df_id = df_test['id']"
   ]
  },
  {
   "cell_type": "code",
   "execution_count": 86,
   "id": "29c3b617",
   "metadata": {},
   "outputs": [
    {
     "data": {
      "text/plain": [
       "5244"
      ]
     },
     "execution_count": 86,
     "metadata": {},
     "output_type": "execute_result"
    }
   ],
   "source": [
    "len(df_id)"
   ]
  },
  {
   "cell_type": "code",
   "execution_count": 87,
   "id": "b7837dce",
   "metadata": {},
   "outputs": [
    {
     "data": {
      "text/plain": [
       "0        2242\n",
       "1       20532\n",
       "2       10648\n",
       "3       20677\n",
       "4       12593\n",
       "        ...  \n",
       "5239    14033\n",
       "5240      297\n",
       "5241    18733\n",
       "5242     6162\n",
       "5243    13574\n",
       "Name: id, Length: 5244, dtype: int64"
      ]
     },
     "execution_count": 87,
     "metadata": {},
     "output_type": "execute_result"
    }
   ],
   "source": [
    "df_test.id"
   ]
  },
  {
   "cell_type": "code",
   "execution_count": 88,
   "id": "d041d94d",
   "metadata": {},
   "outputs": [],
   "source": [
    "df_test.drop('id',axis=1,inplace=True)"
   ]
  },
  {
   "cell_type": "code",
   "execution_count": 89,
   "id": "607eb3db",
   "metadata": {},
   "outputs": [
    {
     "data": {
      "text/plain": [
       "title                0\n",
       "Rating               0\n",
       "actprice1            0\n",
       "norating1            0\n",
       "noreviews1           0\n",
       "star_5f              0\n",
       "star_4f              0\n",
       "star_3f              0\n",
       "star_2f              0\n",
       "star_1f              0\n",
       "fulfilled1           0\n",
       "maincateg_Women      0\n",
       "platform_Flipkart    0\n",
       "dtype: int64"
      ]
     },
     "execution_count": 89,
     "metadata": {},
     "output_type": "execute_result"
    }
   ],
   "source": [
    "df_test.isnull().sum()\n"
   ]
  },
  {
   "cell_type": "code",
   "execution_count": 91,
   "id": "51b81162",
   "metadata": {},
   "outputs": [
    {
     "data": {
      "text/plain": [
       "Index(['id', 'Rating', 'actprice1', 'norating1', 'noreviews1', 'star_5f',\n",
       "       'star_4f', 'star_3f', 'star_2f', 'star_1f', 'fulfilled1', 'price1',\n",
       "       'maincateg_Women', 'platform_Flipkart'],\n",
       "      dtype='object')"
      ]
     },
     "execution_count": 91,
     "metadata": {},
     "output_type": "execute_result"
    }
   ],
   "source": [
    "df_train.columns"
   ]
  },
  {
   "cell_type": "code",
   "execution_count": 92,
   "id": "e59b185d",
   "metadata": {},
   "outputs": [],
   "source": [
    "X_test = df_test[['Rating', 'actprice1', 'norating1', 'noreviews1', 'star_5f', 'star_4f',\n",
    "       'star_3f', 'star_2f', 'star_1f', 'fulfilled1',\n",
    "       'maincateg_Women', 'platform_Flipkart']]"
   ]
  },
  {
   "cell_type": "code",
   "execution_count": 93,
   "id": "a514ee57",
   "metadata": {},
   "outputs": [],
   "source": [
    "x_test_scale = sc.fit_transform(X_test)"
   ]
  },
  {
   "cell_type": "code",
   "execution_count": 94,
   "id": "d58bf89c",
   "metadata": {},
   "outputs": [],
   "source": [
    "pre =lm.predict(x_test_scale)"
   ]
  },
  {
   "cell_type": "code",
   "execution_count": 95,
   "id": "2aac146d",
   "metadata": {},
   "outputs": [
    {
     "data": {
      "text/plain": [
       "(15730, 12)"
      ]
     },
     "execution_count": 95,
     "metadata": {},
     "output_type": "execute_result"
    }
   ],
   "source": [
    "X_scaled.shape"
   ]
  },
  {
   "cell_type": "code",
   "execution_count": 96,
   "id": "74ed73a3",
   "metadata": {},
   "outputs": [
    {
     "data": {
      "text/plain": [
       "(5244, 12)"
      ]
     },
     "execution_count": 96,
     "metadata": {},
     "output_type": "execute_result"
    }
   ],
   "source": [
    "x_test_scale.shape"
   ]
  },
  {
   "cell_type": "code",
   "execution_count": 97,
   "id": "94e6a0c6",
   "metadata": {},
   "outputs": [
    {
     "data": {
      "text/plain": [
       "7132.329580808077"
      ]
     },
     "execution_count": 97,
     "metadata": {},
     "output_type": "execute_result"
    }
   ],
   "source": [
    "pre.max()"
   ]
  },
  {
   "cell_type": "code",
   "execution_count": 138,
   "id": "32cb764c",
   "metadata": {},
   "outputs": [],
   "source": [
    "pre_id = pd.DataFrame(np.round(pre,decimals=3),columns=['price1'])"
   ]
  },
  {
   "cell_type": "code",
   "execution_count": 139,
   "id": "0f3ddc87",
   "metadata": {},
   "outputs": [],
   "source": [
    "pre_id['id'] = df_id[::]"
   ]
  },
  {
   "cell_type": "code",
   "execution_count": 140,
   "id": "8eb3979f",
   "metadata": {},
   "outputs": [
    {
     "data": {
      "text/html": [
       "<div>\n",
       "<style scoped>\n",
       "    .dataframe tbody tr th:only-of-type {\n",
       "        vertical-align: middle;\n",
       "    }\n",
       "\n",
       "    .dataframe tbody tr th {\n",
       "        vertical-align: top;\n",
       "    }\n",
       "\n",
       "    .dataframe thead th {\n",
       "        text-align: right;\n",
       "    }\n",
       "</style>\n",
       "<table border=\"1\" class=\"dataframe\">\n",
       "  <thead>\n",
       "    <tr style=\"text-align: right;\">\n",
       "      <th></th>\n",
       "      <th>price1</th>\n",
       "      <th>id</th>\n",
       "    </tr>\n",
       "  </thead>\n",
       "  <tbody>\n",
       "    <tr>\n",
       "      <th>0</th>\n",
       "      <td>465.565</td>\n",
       "      <td>2242</td>\n",
       "    </tr>\n",
       "    <tr>\n",
       "      <th>1</th>\n",
       "      <td>300.875</td>\n",
       "      <td>20532</td>\n",
       "    </tr>\n",
       "    <tr>\n",
       "      <th>2</th>\n",
       "      <td>519.981</td>\n",
       "      <td>10648</td>\n",
       "    </tr>\n",
       "    <tr>\n",
       "      <th>3</th>\n",
       "      <td>1405.264</td>\n",
       "      <td>20677</td>\n",
       "    </tr>\n",
       "    <tr>\n",
       "      <th>4</th>\n",
       "      <td>466.174</td>\n",
       "      <td>12593</td>\n",
       "    </tr>\n",
       "    <tr>\n",
       "      <th>...</th>\n",
       "      <td>...</td>\n",
       "      <td>...</td>\n",
       "    </tr>\n",
       "    <tr>\n",
       "      <th>5239</th>\n",
       "      <td>419.996</td>\n",
       "      <td>14033</td>\n",
       "    </tr>\n",
       "    <tr>\n",
       "      <th>5240</th>\n",
       "      <td>903.006</td>\n",
       "      <td>297</td>\n",
       "    </tr>\n",
       "    <tr>\n",
       "      <th>5241</th>\n",
       "      <td>438.408</td>\n",
       "      <td>18733</td>\n",
       "    </tr>\n",
       "    <tr>\n",
       "      <th>5242</th>\n",
       "      <td>227.238</td>\n",
       "      <td>6162</td>\n",
       "    </tr>\n",
       "    <tr>\n",
       "      <th>5243</th>\n",
       "      <td>680.431</td>\n",
       "      <td>13574</td>\n",
       "    </tr>\n",
       "  </tbody>\n",
       "</table>\n",
       "<p>5244 rows × 2 columns</p>\n",
       "</div>"
      ],
      "text/plain": [
       "        price1     id\n",
       "0      465.565   2242\n",
       "1      300.875  20532\n",
       "2      519.981  10648\n",
       "3     1405.264  20677\n",
       "4      466.174  12593\n",
       "...        ...    ...\n",
       "5239   419.996  14033\n",
       "5240   903.006    297\n",
       "5241   438.408  18733\n",
       "5242   227.238   6162\n",
       "5243   680.431  13574\n",
       "\n",
       "[5244 rows x 2 columns]"
      ]
     },
     "execution_count": 140,
     "metadata": {},
     "output_type": "execute_result"
    }
   ],
   "source": [
    "pre_id"
   ]
  },
  {
   "cell_type": "code",
   "execution_count": 141,
   "id": "25de66e1",
   "metadata": {},
   "outputs": [
    {
     "data": {
      "text/plain": [
       "<AxesSubplot:xlabel='price1', ylabel='Count'>"
      ]
     },
     "execution_count": 141,
     "metadata": {},
     "output_type": "execute_result"
    },
    {
     "data": {
      "image/png": "[encoded data removed]",
      "text/plain": [
       "<Figure size 720x720 with 1 Axes>"
      ]
     },
     "metadata": {},
     "output_type": "display_data"
    }
   ],
   "source": [
    "plt.figure(figsize=(10,10),facecolor='white')\n",
    "sns.set_theme(style='darkgrid')\n",
    "sns.histplot(pre_id['price1'],bins=30)"
   ]
  },
  {
   "cell_type": "code",
   "execution_count": 142,
   "id": "23086c4a",
   "metadata": {},
   "outputs": [
    {
     "data": {
      "text/plain": [
       "<AxesSubplot:xlabel='id', ylabel='Count'>"
      ]
     },
     "execution_count": 142,
     "metadata": {},
     "output_type": "execute_result"
    },
    {
     "data": {
      "image/png": "[encoded data removed]",
      "text/plain": [
       "<Figure size 720x720 with 1 Axes>"
      ]
     },
     "metadata": {},
     "output_type": "display_data"
    }
   ],
   "source": [
    "plt.figure(figsize=(10,10),facecolor='white')\n",
    "sns.set_theme(style='darkgrid')\n",
    "sns.histplot(pre_id['id'],bins=30)"
   ]
  },
  {
   "cell_type": "code",
   "execution_count": 145,
   "id": "67952ce3",
   "metadata": {},
   "outputs": [],
   "source": [
    "pre_id.to_csv(r'C:\\Users\\tapan\\OneDrive\\Desktop\\ML\\hack.csv',index=False)"
   ]
  },
  {
   "cell_type": "code",
   "execution_count": null,
   "id": "8a500670",
   "metadata": {},
   "outputs": [],
   "source": []
  },
  {
   "cell_type": "code",
   "execution_count": null,
   "id": "4c1a89aa",
   "metadata": {},
   "outputs": [],
   "source": []
  },
  {
   "cell_type": "code",
   "execution_count": 97,
   "id": "8d36f29b",
   "metadata": {},
   "outputs": [
    {
     "data": {
      "text/html": [
       "        <script type=\"text/javascript\">\n",
       "        window.PlotlyConfig = {MathJaxConfig: 'local'};\n",
       "        if (window.MathJax) {MathJax.Hub.Config({SVG: {font: \"STIX-Web\"}});}\n",
       "        if (typeof require !== 'undefined') {\n",
       "        require.undef(\"plotly\");\n",
       "        requirejs.config({\n",
       "            paths: {\n",
       "                'plotly': ['https://cdn.plot.ly/plotly-2.8.3.min']\n",
       "            }\n",
       "        });\n",
       "        require(['plotly'], function(Plotly) {\n",
       "            window._Plotly = Plotly;\n",
       "        });\n",
       "        }\n",
       "        </script>\n",
       "        "
      ]
     },
     "metadata": {},
     "output_type": "display_data"
    }
   ],
   "source": []
  },
  {
   "cell_type": "code",
   "execution_count": null,
   "id": "6df4f5ec",
   "metadata": {},
   "outputs": [],
   "source": []
  },
  {
   "cell_type": "code",
   "execution_count": 99,
   "id": "54568bda",
   "metadata": {},
   "outputs": [],
   "source": []
  },
  {
   "cell_type": "code",
   "execution_count": null,
   "id": "45c6f997",
   "metadata": {},
   "outputs": [],
   "source": []
  },
  {
   "cell_type": "code",
   "execution_count": 122,
   "id": "e356d184",
   "metadata": {},
   "outputs": [],
   "source": []
  },
  {
   "cell_type": "code",
   "execution_count": null,
   "id": "2231a3eb",
   "metadata": {},
   "outputs": [],
   "source": []
  },
  {
   "cell_type": "code",
   "execution_count": null,
   "id": "de0eb545",
   "metadata": {},
   "outputs": [],
   "source": []
  },
  {
   "cell_type": "code",
   "execution_count": null,
   "id": "27f010df",
   "metadata": {},
   "outputs": [],
   "source": []
  },
  {
   "cell_type": "code",
   "execution_count": 132,
   "id": "579bdd84",
   "metadata": {},
   "outputs": [],
   "source": []
  },
  {
   "cell_type": "code",
   "execution_count": 133,
   "id": "dbbe304c",
   "metadata": {},
   "outputs": [],
   "source": []
  },
  {
   "cell_type": "code",
   "execution_count": null,
   "id": "f4f5f632",
   "metadata": {},
   "outputs": [],
   "source": []
  },
  {
   "cell_type": "code",
   "execution_count": null,
   "id": "a75a478b",
   "metadata": {},
   "outputs": [],
   "source": []
  },
  {
   "cell_type": "code",
   "execution_count": null,
   "id": "01d38def",
   "metadata": {},
   "outputs": [],
   "source": []
  },
  {
   "cell_type": "code",
   "execution_count": null,
   "id": "3de7936c",
   "metadata": {},
   "outputs": [],
   "source": []
  }
 ],
 "metadata": {
  "kernelspec": {
   "display_name": "Python 3 (ipykernel)",
   "language": "python",
   "name": "python3"
  },
  "language_info": {
   "codemirror_mode": {
    "name": "ipython",
    "version": 3
   },
   "file_extension": ".py",
   "mimetype": "text/x-python",
   "name": "python",
   "nbconvert_exporter": "python",
   "pygments_lexer": "ipython3",
   "version": "3.9.7"
  }
 },
 "nbformat": 4,
 "nbformat_minor": 5
}
